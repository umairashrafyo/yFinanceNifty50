{
 "cells": [
  {
   "cell_type": "code",
   "execution_count": 6,
   "metadata": {},
   "outputs": [],
   "source": [
    "#import required libraries\n",
    "import yfinance as yf\n",
    "import pandas as pd\n",
    "\n",
    "import pickle"
   ]
  },
  {
   "cell_type": "code",
   "execution_count": 7,
   "metadata": {},
   "outputs": [
    {
     "name": "stdout",
     "output_type": "stream",
     "text": [
      "['ADANIPORTS.NS', 'APOLLOHOSP.NS', 'ASIANPAINT.NS', 'AXISBANK.NS', 'BAJAJ-AUTO.NS', 'BAJFINANCE.NS', 'BAJAJFINSV.NS', 'BPCL.NS', 'BHARTIARTL.NS', 'BRITANNIA.NS', 'CIPLA.NS', 'COALINDIA.NS', 'DIVISLAB.NS', 'DRREDDY.NS', 'EICHERMOT.NS', 'GRASIM.NS', 'HCLTECH.NS', 'HDFCBANK.NS', 'HDFCLIFE.NS', 'HEROMOTOCO.NS', 'HINDALCO.NS', 'HINDUNILVR.NS', 'HDFC.NS', 'ICICIBANK.NS', 'ITC.NS', 'INDUSINDBK.NS', 'INFY.NS', 'JSWSTEEL.NS', 'KOTAKBANK.NS', 'LT.NS', 'M&M.NS', 'MARUTI.NS', 'NTPC.NS', 'NESTLEIND.NS', 'ONGC.NS', 'POWERGRID.NS', 'RELIANCE.NS', 'SBILIFE.NS', 'SHREECEM.NS', 'SBIN.NS', 'SUNPHARMA.NS', 'TCS.NS', 'TATACONSUM.NS', 'TATAMOTORS.NS', 'TATASTEEL.NS', 'TECHM.NS', 'TITAN.NS', 'UPL.NS', 'ULTRACEMCO.NS', 'WIPRO.NS']\n"
     ]
    }
   ],
   "source": [
    "#read the Nifty50 csv file containing the list symbols of the Nifty50 companies \n",
    "Nifty50DataFrame=pd.read_csv(\"/ind_nifty50list.csv\")\n",
    "#extract the symbols data of Nifty 50 companies\n",
    "symbols=Nifty50DataFrame['Symbol']\n",
    "# convert the dataframe to list data structure\n",
    "symbolsList=symbols.to_list()\n",
    "#add '.NS' extension to each symbol names of Nifty50 companies \n",
    "for i in range(len(symbolsList)):\n",
    "    symbolsList[i]=symbolsList[i]+'.NS'\n",
    "#print the symbols extension of Nifty50 companies\n",
    "print(symbolsList)\n"
   ]
  },
  {
   "cell_type": "code",
   "execution_count": 8,
   "metadata": {},
   "outputs": [
    {
     "data": {
      "text/plain": [
       "{'ADANIPORTS.NS': yfinance.Ticker object <ADANIPORTS.NS>,\n",
       " 'APOLLOHOSP.NS': yfinance.Ticker object <APOLLOHOSP.NS>,\n",
       " 'ASIANPAINT.NS': yfinance.Ticker object <ASIANPAINT.NS>,\n",
       " 'AXISBANK.NS': yfinance.Ticker object <AXISBANK.NS>,\n",
       " 'BAJAJ-AUTO.NS': yfinance.Ticker object <BAJAJ-AUTO.NS>,\n",
       " 'BAJFINANCE.NS': yfinance.Ticker object <BAJFINANCE.NS>,\n",
       " 'BAJAJFINSV.NS': yfinance.Ticker object <BAJAJFINSV.NS>,\n",
       " 'BPCL.NS': yfinance.Ticker object <BPCL.NS>,\n",
       " 'BHARTIARTL.NS': yfinance.Ticker object <BHARTIARTL.NS>,\n",
       " 'BRITANNIA.NS': yfinance.Ticker object <BRITANNIA.NS>,\n",
       " 'CIPLA.NS': yfinance.Ticker object <CIPLA.NS>,\n",
       " 'COALINDIA.NS': yfinance.Ticker object <COALINDIA.NS>,\n",
       " 'DIVISLAB.NS': yfinance.Ticker object <DIVISLAB.NS>,\n",
       " 'DRREDDY.NS': yfinance.Ticker object <DRREDDY.NS>,\n",
       " 'EICHERMOT.NS': yfinance.Ticker object <EICHERMOT.NS>,\n",
       " 'GRASIM.NS': yfinance.Ticker object <GRASIM.NS>,\n",
       " 'HCLTECH.NS': yfinance.Ticker object <HCLTECH.NS>,\n",
       " 'HDFCBANK.NS': yfinance.Ticker object <HDFCBANK.NS>,\n",
       " 'HDFCLIFE.NS': yfinance.Ticker object <HDFCLIFE.NS>,\n",
       " 'HEROMOTOCO.NS': yfinance.Ticker object <HEROMOTOCO.NS>,\n",
       " 'HINDALCO.NS': yfinance.Ticker object <HINDALCO.NS>,\n",
       " 'HINDUNILVR.NS': yfinance.Ticker object <HINDUNILVR.NS>,\n",
       " 'HDFC.NS': yfinance.Ticker object <HDFC.NS>,\n",
       " 'ICICIBANK.NS': yfinance.Ticker object <ICICIBANK.NS>,\n",
       " 'ITC.NS': yfinance.Ticker object <ITC.NS>,\n",
       " 'INDUSINDBK.NS': yfinance.Ticker object <INDUSINDBK.NS>,\n",
       " 'INFY.NS': yfinance.Ticker object <INFY.NS>,\n",
       " 'JSWSTEEL.NS': yfinance.Ticker object <JSWSTEEL.NS>,\n",
       " 'KOTAKBANK.NS': yfinance.Ticker object <KOTAKBANK.NS>,\n",
       " 'LT.NS': yfinance.Ticker object <LT.NS>,\n",
       " 'M&M.NS': yfinance.Ticker object <M&M.NS>,\n",
       " 'MARUTI.NS': yfinance.Ticker object <MARUTI.NS>,\n",
       " 'NTPC.NS': yfinance.Ticker object <NTPC.NS>,\n",
       " 'NESTLEIND.NS': yfinance.Ticker object <NESTLEIND.NS>,\n",
       " 'ONGC.NS': yfinance.Ticker object <ONGC.NS>,\n",
       " 'POWERGRID.NS': yfinance.Ticker object <POWERGRID.NS>,\n",
       " 'RELIANCE.NS': yfinance.Ticker object <RELIANCE.NS>,\n",
       " 'SBILIFE.NS': yfinance.Ticker object <SBILIFE.NS>,\n",
       " 'SHREECEM.NS': yfinance.Ticker object <SHREECEM.NS>,\n",
       " 'SBIN.NS': yfinance.Ticker object <SBIN.NS>,\n",
       " 'SUNPHARMA.NS': yfinance.Ticker object <SUNPHARMA.NS>,\n",
       " 'TCS.NS': yfinance.Ticker object <TCS.NS>,\n",
       " 'TATACONSUM.NS': yfinance.Ticker object <TATACONSUM.NS>,\n",
       " 'TATAMOTORS.NS': yfinance.Ticker object <TATAMOTORS.NS>,\n",
       " 'TATASTEEL.NS': yfinance.Ticker object <TATASTEEL.NS>,\n",
       " 'TECHM.NS': yfinance.Ticker object <TECHM.NS>,\n",
       " 'TITAN.NS': yfinance.Ticker object <TITAN.NS>,\n",
       " 'UPL.NS': yfinance.Ticker object <UPL.NS>,\n",
       " 'ULTRACEMCO.NS': yfinance.Ticker object <ULTRACEMCO.NS>,\n",
       " 'WIPRO.NS': yfinance.Ticker object <WIPRO.NS>}"
      ]
     },
     "execution_count": 8,
     "metadata": {},
     "output_type": "execute_result"
    }
   ],
   "source": [
    "#creating tickers object\n",
    "tickers=yf.Tickers(\" \".join(symbolsList).lower()).tickers\n",
    "tickers"
   ]
  },
  {
   "cell_type": "code",
   "execution_count": 9,
   "metadata": {},
   "outputs": [
    {
     "data": {
      "text/plain": [
       "{'ADANIPORTS.NS': yfinance.Ticker object <ADANIPORTS.NS>,\n",
       " 'APOLLOHOSP.NS': yfinance.Ticker object <APOLLOHOSP.NS>,\n",
       " 'ASIANPAINT.NS': yfinance.Ticker object <ASIANPAINT.NS>,\n",
       " 'AXISBANK.NS': yfinance.Ticker object <AXISBANK.NS>,\n",
       " 'BAJAJ-AUTO.NS': yfinance.Ticker object <BAJAJ-AUTO.NS>,\n",
       " 'BAJFINANCE.NS': yfinance.Ticker object <BAJFINANCE.NS>,\n",
       " 'BAJAJFINSV.NS': yfinance.Ticker object <BAJAJFINSV.NS>,\n",
       " 'BPCL.NS': yfinance.Ticker object <BPCL.NS>,\n",
       " 'BHARTIARTL.NS': yfinance.Ticker object <BHARTIARTL.NS>,\n",
       " 'BRITANNIA.NS': yfinance.Ticker object <BRITANNIA.NS>,\n",
       " 'CIPLA.NS': yfinance.Ticker object <CIPLA.NS>,\n",
       " 'COALINDIA.NS': yfinance.Ticker object <COALINDIA.NS>,\n",
       " 'DIVISLAB.NS': yfinance.Ticker object <DIVISLAB.NS>,\n",
       " 'DRREDDY.NS': yfinance.Ticker object <DRREDDY.NS>,\n",
       " 'EICHERMOT.NS': yfinance.Ticker object <EICHERMOT.NS>,\n",
       " 'GRASIM.NS': yfinance.Ticker object <GRASIM.NS>,\n",
       " 'HCLTECH.NS': yfinance.Ticker object <HCLTECH.NS>,\n",
       " 'HDFCBANK.NS': yfinance.Ticker object <HDFCBANK.NS>,\n",
       " 'HDFCLIFE.NS': yfinance.Ticker object <HDFCLIFE.NS>,\n",
       " 'HEROMOTOCO.NS': yfinance.Ticker object <HEROMOTOCO.NS>,\n",
       " 'HINDALCO.NS': yfinance.Ticker object <HINDALCO.NS>,\n",
       " 'HINDUNILVR.NS': yfinance.Ticker object <HINDUNILVR.NS>,\n",
       " 'HDFC.NS': yfinance.Ticker object <HDFC.NS>,\n",
       " 'ICICIBANK.NS': yfinance.Ticker object <ICICIBANK.NS>,\n",
       " 'ITC.NS': yfinance.Ticker object <ITC.NS>,\n",
       " 'INDUSINDBK.NS': yfinance.Ticker object <INDUSINDBK.NS>,\n",
       " 'INFY.NS': yfinance.Ticker object <INFY.NS>,\n",
       " 'JSWSTEEL.NS': yfinance.Ticker object <JSWSTEEL.NS>,\n",
       " 'KOTAKBANK.NS': yfinance.Ticker object <KOTAKBANK.NS>,\n",
       " 'LT.NS': yfinance.Ticker object <LT.NS>,\n",
       " 'M&M.NS': yfinance.Ticker object <M&M.NS>,\n",
       " 'MARUTI.NS': yfinance.Ticker object <MARUTI.NS>,\n",
       " 'NTPC.NS': yfinance.Ticker object <NTPC.NS>,\n",
       " 'NESTLEIND.NS': yfinance.Ticker object <NESTLEIND.NS>,\n",
       " 'ONGC.NS': yfinance.Ticker object <ONGC.NS>,\n",
       " 'POWERGRID.NS': yfinance.Ticker object <POWERGRID.NS>,\n",
       " 'RELIANCE.NS': yfinance.Ticker object <RELIANCE.NS>,\n",
       " 'SBILIFE.NS': yfinance.Ticker object <SBILIFE.NS>,\n",
       " 'SHREECEM.NS': yfinance.Ticker object <SHREECEM.NS>,\n",
       " 'SBIN.NS': yfinance.Ticker object <SBIN.NS>,\n",
       " 'SUNPHARMA.NS': yfinance.Ticker object <SUNPHARMA.NS>,\n",
       " 'TCS.NS': yfinance.Ticker object <TCS.NS>,\n",
       " 'TATACONSUM.NS': yfinance.Ticker object <TATACONSUM.NS>,\n",
       " 'TATAMOTORS.NS': yfinance.Ticker object <TATAMOTORS.NS>,\n",
       " 'TATASTEEL.NS': yfinance.Ticker object <TATASTEEL.NS>,\n",
       " 'TECHM.NS': yfinance.Ticker object <TECHM.NS>,\n",
       " 'TITAN.NS': yfinance.Ticker object <TITAN.NS>,\n",
       " 'UPL.NS': yfinance.Ticker object <UPL.NS>,\n",
       " 'ULTRACEMCO.NS': yfinance.Ticker object <ULTRACEMCO.NS>,\n",
       " 'WIPRO.NS': yfinance.Ticker object <WIPRO.NS>}"
      ]
     },
     "execution_count": 9,
     "metadata": {},
     "output_type": "execute_result"
    }
   ],
   "source": [
    "\n",
    "pickledTickers=pickle.dump(tickers,open('yFinanceTickers.pkl','wb'))\n",
    "pickledObject=pickle.load(open('yFinanceTickers.pkl','rb'))\n",
    "pickledObject"
   ]
  },
  {
   "cell_type": "code",
   "execution_count": null,
   "metadata": {},
   "outputs": [],
   "source": []
  }
 ],
 "metadata": {
  "kernelspec": {
   "display_name": "Python 3",
   "language": "python",
   "name": "python3"
  },
  "language_info": {
   "codemirror_mode": {
    "name": "ipython",
    "version": 3
   },
   "file_extension": ".py",
   "mimetype": "text/x-python",
   "name": "python",
   "nbconvert_exporter": "python",
   "pygments_lexer": "ipython3",
   "version": "3.8.5"
  }
 },
 "nbformat": 4,
 "nbformat_minor": 4
}
